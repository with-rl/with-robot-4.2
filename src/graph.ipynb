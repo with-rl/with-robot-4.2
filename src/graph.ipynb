{
 "cells": [
  {
   "cell_type": "code",
   "execution_count": null,
   "id": "021292d6",
   "metadata": {},
   "outputs": [],
   "source": [
    "import json\n",
    "from typing import TypedDict, List\n",
    "from typing_extensions import Annotated, Literal\n",
    "from pydantic import BaseModel, Field\n",
    "\n",
    "import numpy as np\n",
    "import matplotlib.pyplot as plt\n",
    "\n",
    "from dotenv import load_dotenv\n",
    "from langchain.chat_models import init_chat_model\n",
    "from langchain_core.prompts import PromptTemplate\n",
    "from langchain.schema import HumanMessage, AIMessage, SystemMessage\n",
    "from langgraph.graph import StateGraph, START, END\n",
    "from langgraph.graph.message import add_messages"
   ]
  },
  {
   "cell_type": "code",
   "execution_count": null,
   "id": "2d0e8c59",
   "metadata": {},
   "outputs": [],
   "source": [
    "from dotenv import load_dotenv\n",
    "\n",
    "# API-KEY 읽어오기\n",
    "load_dotenv()"
   ]
  },
  {
   "cell_type": "code",
   "execution_count": null,
   "id": "f86ab0c5",
   "metadata": {},
   "outputs": [],
   "source": [
    "class Action(BaseModel):\n",
    "    \"\"\"\n",
    "    A model that defines an action for the robot to execute.\n",
    "    \"\"\"\n",
    "    action: Literal[\"move\"] = Field(\n",
    "        None, description=\"The action for the robot to execute. Must be 'move'.\"\n",
    "    )\n",
    "    start: str = Field(\n",
    "        None, description=\"The starting position/location for the robot's action.\"\n",
    "    )\n",
    "    end: str = Field(\n",
    "        None, description=\"The ending position/location for the robot's action.\"\n",
    "    )"
   ]
  },
  {
   "cell_type": "code",
   "execution_count": null,
   "id": "4532f4a1",
   "metadata": {},
   "outputs": [],
   "source": [
    "class Plan(BaseModel):\n",
    "    \"\"\"\n",
    "    A plan consisting of sequential actions for the robot to complete a mission.\n",
    "    \"\"\"\n",
    "    actions: List[Action] = Field(\n",
    "        None, description=\"A list of actions for the robot to execute.\"\n",
    "    )"
   ]
  },
  {
   "cell_type": "code",
   "execution_count": null,
   "id": "0597dbbc",
   "metadata": {},
   "outputs": [],
   "source": [
    "from langchain.chat_models import init_chat_model\n",
    "\n",
    "# 모델 초기화\n",
    "llm = init_chat_model(\"google_genai:gemini-2.5-flash\")\n",
    "# LLM에거 구조화된 답변을 생성하도록 함\n",
    "structured_llm = llm.with_structured_output(Plan)"
   ]
  },
  {
   "cell_type": "code",
   "execution_count": null,
   "id": "dbb140ad",
   "metadata": {},
   "outputs": [],
   "source": [
    "cube = [\n",
    "    {\"name\": \"red-1\", \"color\": \"red\", \"x\": 10, \"y\": 10},\n",
    "    {\"name\": \"red-2\", \"color\": \"red\", \"x\": 100, \"y\": 100},\n",
    "    {\"name\": \"red-3\", \"color\": \"red\", \"x\": 10, \"y\": 90},\n",
    "    {\"name\": \"red-4\", \"color\": \"red\", \"x\": 90, \"y\": 10},\n",
    "    {\"name\": \"red-5\", \"color\": \"red\", \"x\": 50, \"y\": 50},\n",
    "    {\"name\": \"blue-1\", \"color\": \"blue\", \"x\": 100, \"y\": 10},\n",
    "    {\"name\": \"blue-2\", \"color\": \"blue\", \"x\": 10, \"y\": 100},\n",
    "    {\"name\": \"blue-3\", \"color\": \"blue\", \"x\": 100, \"y\": 20},\n",
    "    {\"name\": \"blue-4\", \"color\": \"blue\", \"x\": 20, \"y\": 100},\n",
    "    {\"name\": \"blue-5\", \"color\": \"blue\", \"x\": 40, \"y\": 40}\n",
    "]"
   ]
  },
  {
   "cell_type": "code",
   "execution_count": null,
   "id": "3bf5bf7e",
   "metadata": {},
   "outputs": [],
   "source": [
    "template_ko = \"\"\"당신은 가정내의 간단한 임무를 수행하는 로봇입니다.\n",
    "아래 명령은 예시로서 \"red-1\" 물건을 \"red-2\" 지점으로 옮기는 명령입니다.\n",
    "{{\n",
    "    {{\"action\": \"move\", \"start\": \"red-1\", \"end\": \"red-2\"}}\n",
    "}}\n",
    "\n",
    "현재 물건이 아래와 같이 큐브가 놓여 있습니다.\n",
    "{cube_state}\n",
    "\n",
    "이 큐브를 색깔별로 모으려고 합니다.\n",
    "이 큐브를 모으기 위한 적당한 명령을 생성해 주세요.\n",
    "\"\"\"\n",
    "\n",
    "prompt_template_ko = PromptTemplate(\n",
    "    template=template_ko,\n",
    "    input_variables=[\"cube_state\"]\n",
    ")\n",
    "\n",
    "print(prompt_template_ko.format(cube_state=json.dumps(cube, indent=4)))"
   ]
  },
  {
   "cell_type": "code",
   "execution_count": null,
   "id": "7197dfdb",
   "metadata": {},
   "outputs": [],
   "source": [
    "result = structured_llm.invoke(prompt_template_ko.format(cube_state=json.dumps(cube, indent=4)))\n",
    "\n",
    "for action in result.actions:\n",
    "    print(action)"
   ]
  },
  {
   "cell_type": "code",
   "execution_count": null,
   "id": "3b2d9993",
   "metadata": {},
   "outputs": [],
   "source": [
    "template_en = \"\"\"You are a household robot command generator. Your task is to analyze object positions and generate optimal movement commands to group objects by color.\n",
    "\n",
    "COMMAND FORMAT:\n",
    "{{\n",
    "    {{\"action\": \"move\", \"start\": \"red-1\", \"end\": \"red-2\"}}\n",
    "}}\n",
    "\n",
    "RULES:\n",
    "1. Analyze the current positions of all objects\n",
    "2. Group objects by color at the most central or strategic location\n",
    "3. Minimize total movement distance\n",
    "4. Generate commands in logical sequence\n",
    "5. Only move objects to positions of other objects with the same color\n",
    "\n",
    "CURRENT OBJECT POSITIONS:\n",
    "{cube_state}\n",
    "\n",
    "TASK: Generate the minimum number of movement commands to group all cubes by color.\n",
    "\n",
    "OUTPUT FORMAT: Provide a JSON array of commands with brief explanation of your strategy.\n",
    "\"\"\"\n",
    "\n",
    "prompt_template_en = PromptTemplate(\n",
    "    template=template_en,\n",
    "    input_variables=[\"cube_state\"]\n",
    ")\n",
    "\n",
    "print(prompt_template_en.format(cube_state=json.dumps(cube, indent=4)))"
   ]
  },
  {
   "cell_type": "code",
   "execution_count": null,
   "id": "a3e381a9",
   "metadata": {},
   "outputs": [],
   "source": [
    "result = structured_llm.invoke(prompt_template_en.format(cube_state=json.dumps(cube, indent=4)))\n",
    "\n",
    "for action in result.actions:\n",
    "    print(action)"
   ]
  },
  {
   "cell_type": "code",
   "execution_count": null,
   "id": "8268a5db",
   "metadata": {},
   "outputs": [],
   "source": [
    "cmd = 4\n",
    "red = np.random.randint(0, 100, (cmd, 2))\n",
    "blue = np.random.randint(0, 100, (cmd, 2))\n",
    "\n",
    "plt.scatter(red[:, 0], red[:, 1], color=\"red\")\n",
    "plt.scatter(blue[:, 0], blue[:, 1], color=\"blue\")\n",
    "plt.show()\n",
    "\n",
    "red_dict = {f\"red-{i}\":r for i, r in enumerate(red)}\n",
    "blue_dict = {f\"blue-{i}\":r for i, r in enumerate(blue)}\n",
    "all_dict = (red_dict | blue_dict)\n",
    "keys = list(all_dict.keys())\n",
    "\n",
    "cube = []\n",
    "for key in np.random.permutation(keys):\n",
    "    p = all_dict[key]\n",
    "    cube.append({\"name\": str(key), \"color\": key.split(\"-\")[0], \"x\": int(p[0]), \"y\": int(p[1])})\n",
    "print(cube)"
   ]
  },
  {
   "cell_type": "code",
   "execution_count": null,
   "id": "a40d9cc1",
   "metadata": {},
   "outputs": [],
   "source": [
    "result = structured_llm.invoke(prompt_template_en.format(cube_state=json.dumps(cube, indent=4)))"
   ]
  },
  {
   "cell_type": "code",
   "execution_count": null,
   "id": "81bb3315",
   "metadata": {},
   "outputs": [],
   "source": [
    "for action in result.actions:\n",
    "    start = all_dict[action.start]\n",
    "    end = all_dict[action.end]\n",
    "    start[0] = end[0] + np.random.randint(-5, 5)\n",
    "    start[1] = end[1] + np.random.randint(-5, 5)\n",
    "\n",
    "    print(action)\n",
    "    plt.scatter(red[:, 0], red[:, 1], color=\"red\")\n",
    "    plt.scatter(blue[:, 0], blue[:, 1], color=\"blue\")\n",
    "    plt.xlim(0, 100)\n",
    "    plt.ylim(0, 100)\n",
    "    plt.show()"
   ]
  },
  {
   "cell_type": "code",
   "execution_count": null,
   "id": "14d34fc7",
   "metadata": {},
   "outputs": [],
   "source": []
  }
 ],
 "metadata": {
  "kernelspec": {
   "display_name": "robot",
   "language": "python",
   "name": "python3"
  },
  "language_info": {
   "codemirror_mode": {
    "name": "ipython",
    "version": 3
   },
   "file_extension": ".py",
   "mimetype": "text/x-python",
   "name": "python",
   "nbconvert_exporter": "python",
   "pygments_lexer": "ipython3",
   "version": "3.12.11"
  }
 },
 "nbformat": 4,
 "nbformat_minor": 5
}
