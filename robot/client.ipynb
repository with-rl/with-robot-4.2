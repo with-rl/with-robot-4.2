{
 "cells": [
  {
   "cell_type": "markdown",
   "id": "452ee1d3",
   "metadata": {},
   "source": [
    "## Import"
   ]
  },
  {
   "cell_type": "code",
   "execution_count": 87,
   "id": "3ff9d82a",
   "metadata": {},
   "outputs": [],
   "source": [
    "import requests"
   ]
  },
  {
   "cell_type": "markdown",
   "id": "2a8284bb",
   "metadata": {},
   "source": [
    "## Server Status"
   ]
  },
  {
   "cell_type": "code",
   "execution_count": null,
   "id": "b8939fdb",
   "metadata": {},
   "outputs": [],
   "source": [
    "response = requests.get(\"http://localhost:8800/\")\n",
    "user_data = response.json()\n",
    "user_data"
   ]
  },
  {
   "cell_type": "markdown",
   "id": "0c759692",
   "metadata": {},
   "source": [
    "## Locate Cubes at random position"
   ]
  },
  {
   "cell_type": "code",
   "execution_count": null,
   "id": "d03648df",
   "metadata": {},
   "outputs": [],
   "source": [
    "response = requests.get(\"http://localhost:8800/cube/set\")\n",
    "user_data = response.json()\n",
    "user_data"
   ]
  },
  {
   "cell_type": "markdown",
   "id": "877bd2bd",
   "metadata": {},
   "source": [
    "## Query Cubes's current position"
   ]
  },
  {
   "cell_type": "code",
   "execution_count": null,
   "id": "1b726add",
   "metadata": {},
   "outputs": [],
   "source": [
    "response = requests.get(\"http://localhost:8800/cube/get\")\n",
    "user_data = response.json()\n",
    "user_data"
   ]
  },
  {
   "cell_type": "markdown",
   "id": "0055b58f",
   "metadata": {},
   "source": [
    "## Move base to Source position"
   ]
  },
  {
   "cell_type": "code",
   "execution_count": 219,
   "id": "18605dca",
   "metadata": {},
   "outputs": [],
   "source": [
    "source = \"_cube_red_02\"\n",
    "target = \"_cube_red_01\""
   ]
  },
  {
   "cell_type": "code",
   "execution_count": 222,
   "id": "6c79a464",
   "metadata": {},
   "outputs": [
    {
     "data": {
      "text/plain": [
       "{'status': 'completed', 'target': '_cube_red_02'}"
      ]
     },
     "execution_count": 222,
     "metadata": {},
     "output_type": "execute_result"
    }
   ],
   "source": [
    "headers = {\"Content-Type\": \"application/json\"}\n",
    "data = {\"target\": source}\n",
    "response = requests.post(\n",
    "    \"http://localhost:8800/cmd/move_to\", json=data, headers=headers\n",
    ")\n",
    "user_data = response.json()\n",
    "user_data"
   ]
  },
  {
   "cell_type": "code",
   "execution_count": 223,
   "id": "aa826b62",
   "metadata": {},
   "outputs": [
    {
     "data": {
      "text/plain": [
       "{'status': 'completed', 'target': '_cube_red_02'}"
      ]
     },
     "execution_count": 223,
     "metadata": {},
     "output_type": "execute_result"
    }
   ],
   "source": [
    "headers = {\"Content-Type\": \"application/json\"}\n",
    "data = {\"target\": source}\n",
    "response = requests.post(\n",
    "    \"http://localhost:8800/cmd/pick_up\", json=data, headers=headers\n",
    ")\n",
    "user_data = response.json()\n",
    "user_data"
   ]
  },
  {
   "cell_type": "code",
   "execution_count": 224,
   "id": "a80a0a59",
   "metadata": {},
   "outputs": [
    {
     "data": {
      "text/plain": [
       "{'status': 'completed', 'target': '_cube_red_01'}"
      ]
     },
     "execution_count": 224,
     "metadata": {},
     "output_type": "execute_result"
    }
   ],
   "source": [
    "headers = {\"Content-Type\": \"application/json\"}\n",
    "data = {\"target\": target}\n",
    "response = requests.post(\n",
    "    \"http://localhost:8800/cmd/move_to\", json=data, headers=headers\n",
    ")\n",
    "user_data = response.json()\n",
    "user_data"
   ]
  },
  {
   "cell_type": "code",
   "execution_count": 225,
   "id": "487929b5",
   "metadata": {},
   "outputs": [
    {
     "data": {
      "text/plain": [
       "{'status': 'completed'}"
      ]
     },
     "execution_count": 225,
     "metadata": {},
     "output_type": "execute_result"
    }
   ],
   "source": [
    "response = requests.get(\"http://localhost:8800/cmd/place\")\n",
    "user_data = response.json()\n",
    "user_data"
   ]
  },
  {
   "cell_type": "markdown",
   "id": "e41b6ac0",
   "metadata": {},
   "source": [
    "## Pick up the Source"
   ]
  },
  {
   "cell_type": "code",
   "execution_count": 162,
   "id": "8964f497",
   "metadata": {},
   "outputs": [
    {
     "data": {
      "text/plain": [
       "{'status': 'completed', 'target': '_cube_red_02'}"
      ]
     },
     "execution_count": 162,
     "metadata": {},
     "output_type": "execute_result"
    }
   ],
   "source": [
    "headers = {\"Content-Type\": \"application/json\"}\n",
    "data = {\"target\": \"_cube_red_02\"}\n",
    "response = requests.post(\n",
    "    \"http://localhost:8800/cmd/pick_up\", json=data, headers=headers\n",
    ")\n",
    "user_data = response.json()\n",
    "user_data"
   ]
  },
  {
   "cell_type": "markdown",
   "id": "049add8c",
   "metadata": {},
   "source": [
    "## Move base to Target position"
   ]
  },
  {
   "cell_type": "code",
   "execution_count": 146,
   "id": "299f064b",
   "metadata": {},
   "outputs": [
    {
     "data": {
      "text/plain": [
       "{'status': 'completed', 'target': '_cube_red_03'}"
      ]
     },
     "execution_count": 146,
     "metadata": {},
     "output_type": "execute_result"
    }
   ],
   "source": [
    "headers = {\"Content-Type\": \"application/json\"}\n",
    "data = {\"target\": \"_cube_red_03\"}\n",
    "response = requests.post(\n",
    "    \"http://localhost:8800/cmd/move_to\", json=data, headers=headers\n",
    ")\n",
    "user_data = response.json()\n",
    "user_data"
   ]
  },
  {
   "cell_type": "markdown",
   "id": "536fa333",
   "metadata": {},
   "source": [
    "## Place the Source"
   ]
  },
  {
   "cell_type": "code",
   "execution_count": null,
   "id": "7e2da3c1",
   "metadata": {},
   "outputs": [],
   "source": [
    "response = requests.get(\"http://localhost:8800/cmd/place\")\n",
    "user_data = response.json()\n",
    "user_data"
   ]
  }
 ],
 "metadata": {
  "kernelspec": {
   "display_name": "robot",
   "language": "python",
   "name": "python3"
  },
  "language_info": {
   "codemirror_mode": {
    "name": "ipython",
    "version": 3
   },
   "file_extension": ".py",
   "mimetype": "text/x-python",
   "name": "python",
   "nbconvert_exporter": "python",
   "pygments_lexer": "ipython3",
   "version": "3.12.11"
  }
 },
 "nbformat": 4,
 "nbformat_minor": 5
}
