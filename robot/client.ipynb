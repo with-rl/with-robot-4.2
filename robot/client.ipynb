{
 "cells": [
  {
   "cell_type": "markdown",
   "id": "452ee1d3",
   "metadata": {},
   "source": [
    "## Import"
   ]
  },
  {
   "cell_type": "code",
   "execution_count": null,
   "id": "3ff9d82a",
   "metadata": {},
   "outputs": [],
   "source": [
    "import requests"
   ]
  },
  {
   "cell_type": "markdown",
   "id": "2a8284bb",
   "metadata": {},
   "source": [
    "## Server Status"
   ]
  },
  {
   "cell_type": "code",
   "execution_count": null,
   "id": "b8939fdb",
   "metadata": {},
   "outputs": [],
   "source": [
    "response = requests.get(\"http://localhost:8800/\")\n",
    "user_data = response.json()\n",
    "user_data"
   ]
  },
  {
   "cell_type": "markdown",
   "id": "0c759692",
   "metadata": {},
   "source": [
    "## Locate Cubes at random position"
   ]
  },
  {
   "cell_type": "code",
   "execution_count": null,
   "id": "d03648df",
   "metadata": {},
   "outputs": [],
   "source": [
    "response = requests.get(\"http://localhost:8800/cube/set\")\n",
    "user_data = response.json()\n",
    "user_data"
   ]
  },
  {
   "cell_type": "markdown",
   "id": "877bd2bd",
   "metadata": {},
   "source": [
    "## Query Cubes's current position"
   ]
  },
  {
   "cell_type": "code",
   "execution_count": null,
   "id": "1b726add",
   "metadata": {},
   "outputs": [],
   "source": [
    "response = requests.get(\"http://localhost:8800/cube/get\")\n",
    "user_data = response.json()\n",
    "user_data"
   ]
  },
  {
   "cell_type": "markdown",
   "id": "0055b58f",
   "metadata": {},
   "source": [
    "## Move base to Source position"
   ]
  },
  {
   "cell_type": "code",
   "execution_count": null,
   "id": "6c79a464",
   "metadata": {},
   "outputs": [],
   "source": [
    "headers = {\"Content-Type\": \"application/json\"}\n",
    "data = {\"target\": \"cube_red_02\"}\n",
    "response = requests.post(\"http://localhost:8800/cmd/move_to\",\n",
    "                         json=data,\n",
    "                         headers=headers)\n",
    "user_data = response.json()\n",
    "user_data"
   ]
  },
  {
   "cell_type": "markdown",
   "id": "e41b6ac0",
   "metadata": {},
   "source": [
    "## Pick up the Source"
   ]
  },
  {
   "cell_type": "code",
   "execution_count": null,
   "id": "8964f497",
   "metadata": {},
   "outputs": [],
   "source": [
    "headers = {\"Content-Type\": \"application/json\"}\n",
    "data = {\"target\": \"cube_red_02\"}\n",
    "response = requests.post(\"http://localhost:8800/cmd/pick_up\",\n",
    "                         json=data,\n",
    "                         headers=headers)\n",
    "user_data = response.json()\n",
    "user_data"
   ]
  },
  {
   "cell_type": "markdown",
   "id": "049add8c",
   "metadata": {},
   "source": [
    "## Move base to Target position"
   ]
  },
  {
   "cell_type": "code",
   "execution_count": null,
   "id": "299f064b",
   "metadata": {},
   "outputs": [],
   "source": [
    "headers = {\"Content-Type\": \"application/json\"}\n",
    "data = {\"target\": \"cube_red_01\"}\n",
    "response = requests.post(\"http://localhost:8800/cmd/move_to\",\n",
    "                         json=data,\n",
    "                         headers=headers)\n",
    "user_data = response.json()\n",
    "user_data"
   ]
  },
  {
   "cell_type": "markdown",
   "id": "536fa333",
   "metadata": {},
   "source": [
    "## Place the Source"
   ]
  },
  {
   "cell_type": "code",
   "execution_count": null,
   "id": "7e2da3c1",
   "metadata": {},
   "outputs": [],
   "source": [
    "response = requests.get(\"http://localhost:8800/cmd/place\")\n",
    "user_data = response.json()\n",
    "user_data"
   ]
  }
 ],
 "metadata": {
  "kernelspec": {
   "display_name": "robot",
   "language": "python",
   "name": "python3"
  },
  "language_info": {
   "codemirror_mode": {
    "name": "ipython",
    "version": 3
   },
   "file_extension": ".py",
   "mimetype": "text/x-python",
   "name": "python",
   "nbconvert_exporter": "python",
   "pygments_lexer": "ipython3",
   "version": "3.12.11"
  }
 },
 "nbformat": 4,
 "nbformat_minor": 5
}
